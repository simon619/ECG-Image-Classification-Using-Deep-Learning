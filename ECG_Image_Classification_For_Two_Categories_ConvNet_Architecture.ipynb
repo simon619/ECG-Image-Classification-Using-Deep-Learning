{
 "cells": [
  {
   "cell_type": "code",
   "execution_count": 1,
   "metadata": {
    "id": "9APndVGSSTgW"
   },
   "outputs": [],
   "source": [
    "import numpy as np\n",
    "import matplotlib.pyplot as plt\n",
    "from tqdm import tqdm\n",
    "import os\n",
    "import cv2\n",
    "import random\n",
    "import tensorflow as tf\n",
    "from sklearn.model_selection import train_test_split\n",
    "from tensorflow.keras.models import Sequential\n",
    "from tensorflow.keras.layers import Dense, Dropout, Activation, Flatten, BatchNormalization\n",
    "from tensorflow.keras.layers import Conv2D, MaxPooling2D\n",
    "from tensorflow.keras.callbacks import TensorBoard\n",
    "import pickle\n",
    "import time\n",
    "import pandas as pd"
   ]
  },
  {
   "cell_type": "code",
   "execution_count": 2,
   "metadata": {
    "id": "XJGFPgCaSb10"
   },
   "outputs": [],
   "source": [
    "for dirname, _, filenames in os.walk('/content/drive/MyDrive/Colab Notebooks/Dataset/ECG'):\n",
    "    for filename in filenames:\n",
    "        os.path.join(dirname, filename)"
   ]
  },
  {
   "cell_type": "code",
   "execution_count": 3,
   "metadata": {
    "colab": {
     "base_uri": "https://localhost:8080/"
    },
    "id": "79L0emltSfTT",
    "outputId": "e11ccfe7-95fd-4985-ee3e-c0b987e7aa6e"
   },
   "outputs": [
    {
     "name": "stdout",
     "output_type": "stream",
     "text": [
      "Mounted at /content/drive\n"
     ]
    }
   ],
   "source": [
    "from google.colab import drive\n",
    "drive.mount('/content/drive')"
   ]
  },
  {
   "cell_type": "code",
   "execution_count": 4,
   "metadata": {
    "id": "2jpN34yaSnap"
   },
   "outputs": [],
   "source": [
    "DATADIR = '/content/drive/MyDrive/Colab Notebooks/DS2/ECG'\n",
    "CATEGORIES = ['MI Patient', 'Normal']"
   ]
  },
  {
   "cell_type": "code",
   "execution_count": 5,
   "metadata": {
    "colab": {
     "base_uri": "https://localhost:8080/"
    },
    "id": "ImdUQFuuSy96",
    "outputId": "b6516c45-4469-4939-ad31-76b844fc9c21"
   },
   "outputs": [
    {
     "name": "stderr",
     "output_type": "stream",
     "text": [
      "100%|██████████| 239/239 [01:46<00:00,  2.24it/s]\n",
      "100%|██████████| 240/240 [01:34<00:00,  2.55it/s]"
     ]
    },
    {
     "name": "stdout",
     "output_type": "stream",
     "text": [
      "479\n"
     ]
    },
    {
     "name": "stderr",
     "output_type": "stream",
     "text": [
      "\n"
     ]
    }
   ],
   "source": [
    "IMG_SIZE = 100\n",
    "\n",
    "training_data = []\n",
    "Number_of_DATA_Per_Label = []\n",
    "def create_training_data():\n",
    "    for category in CATEGORIES: \n",
    "        counter = 0\n",
    "        path = os.path.join(DATADIR,category)  \n",
    "        class_num = CATEGORIES.index(category)  \n",
    "\n",
    "        for img in tqdm(os.listdir(path)):  \n",
    "            try:\n",
    "                img_array = cv2.imread(os.path.join(path,img) ,cv2.IMREAD_GRAYSCALE) \n",
    "                new_array = cv2.resize(img_array, (IMG_SIZE, IMG_SIZE)) \n",
    "                training_data.append([new_array, class_num])\n",
    "                counter+=1   \n",
    "            except Exception as e: \n",
    "                pass\n",
    "        Number_of_DATA_Per_Label.append(counter)        \n",
    "\n",
    "create_training_data()\n",
    "\n",
    "print(len(training_data))"
   ]
  },
  {
   "cell_type": "code",
   "execution_count": 6,
   "metadata": {
    "colab": {
     "base_uri": "https://localhost:8080/"
    },
    "id": "waYWuHSSgeBV",
    "outputId": "c97abb33-1087-49b3-e8c1-11e5cf87683b"
   },
   "outputs": [
    {
     "name": "stdout",
     "output_type": "stream",
     "text": [
      "['MI Patient', 'Normal']\n"
     ]
    }
   ],
   "source": [
    "print(CATEGORIES)"
   ]
  },
  {
   "cell_type": "code",
   "execution_count": 7,
   "metadata": {
    "colab": {
     "base_uri": "https://localhost:8080/"
    },
    "id": "JSpuEry5gk14",
    "outputId": "f667201e-b3fa-4880-cd39-a0f26f82a55a"
   },
   "outputs": [
    {
     "name": "stdout",
     "output_type": "stream",
     "text": [
      "[239, 240]\n"
     ]
    }
   ],
   "source": [
    "print(Number_of_DATA_Per_Label)"
   ]
  },
  {
   "cell_type": "code",
   "execution_count": 8,
   "metadata": {
    "colab": {
     "base_uri": "https://localhost:8080/"
    },
    "id": "prphNqqUUlx_",
    "outputId": "e632746d-324b-41ac-c82b-4ec2bdc0a836"
   },
   "outputs": [
    {
     "name": "stdout",
     "output_type": "stream",
     "text": [
      "0\n",
      "1\n",
      "0\n",
      "1\n",
      "0\n",
      "1\n",
      "0\n",
      "1\n",
      "0\n",
      "1\n"
     ]
    }
   ],
   "source": [
    "random.shuffle(training_data)\n",
    "for sample in training_data[:10]:\n",
    "    print(sample[1])"
   ]
  },
  {
   "cell_type": "code",
   "execution_count": 9,
   "metadata": {
    "colab": {
     "base_uri": "https://localhost:8080/"
    },
    "id": "V-J67crozzo4",
    "outputId": "83967865-6ffa-4310-f0c3-6a75319139ed"
   },
   "outputs": [
    {
     "name": "stderr",
     "output_type": "stream",
     "text": [
      "/usr/local/lib/python3.7/dist-packages/ipykernel_launcher.py:1: VisibleDeprecationWarning: Creating an ndarray from ragged nested sequences (which is a list-or-tuple of lists-or-tuples-or ndarrays with different lengths or shapes) is deprecated. If you meant to do this, you must specify 'dtype=object' when creating the ndarray\n",
      "  \"\"\"Entry point for launching an IPython kernel.\n"
     ]
    }
   ],
   "source": [
    "TD = np.array(training_data)"
   ]
  },
  {
   "cell_type": "code",
   "execution_count": 10,
   "metadata": {
    "colab": {
     "base_uri": "https://localhost:8080/"
    },
    "id": "y7-drTo7z_uF",
    "outputId": "79a42e5e-0e0e-4a22-c922-60ab75d17f0f"
   },
   "outputs": [
    {
     "name": "stdout",
     "output_type": "stream",
     "text": [
      "[[array([[255, 255, 255, ..., 255, 255, 255],\n",
      "       [255, 255, 255, ..., 255, 255, 255],\n",
      "       [255, 255, 255, ..., 255, 255, 255],\n",
      "       ...,\n",
      "       [255, 255, 255, ..., 255, 255, 255],\n",
      "       [255, 255, 255, ..., 255, 255, 255],\n",
      "       [255, 255, 255, ..., 255, 255, 255]], dtype=uint8)\n",
      "  1]\n",
      " [array([[255, 255, 255, ..., 255, 255, 255],\n",
      "       [255, 255, 255, ..., 255, 255, 255],\n",
      "       [255, 255, 255, ..., 255, 255, 255],\n",
      "       ...,\n",
      "       [255, 255, 255, ..., 255, 255, 255],\n",
      "       [255, 255, 255, ..., 255, 255, 255],\n",
      "       [255, 255, 255, ..., 255, 255, 255]], dtype=uint8)\n",
      "  0]\n",
      " [array([[255, 255, 255, ..., 255, 255, 255],\n",
      "       [255, 255, 255, ..., 255, 255, 255],\n",
      "       [255, 255, 255, ..., 255, 255, 255],\n",
      "       ...,\n",
      "       [255, 255, 255, ..., 255, 255, 255],\n",
      "       [255, 255, 255, ..., 255, 255, 255],\n",
      "       [255, 255, 255, ..., 255, 255, 255]], dtype=uint8)\n",
      "  1]\n",
      " [array([[255, 255, 255, ..., 255, 255, 255],\n",
      "       [255, 255, 255, ..., 255, 255, 255],\n",
      "       [255, 255, 255, ..., 255, 255, 255],\n",
      "       ...,\n",
      "       [255, 255, 255, ..., 255, 255, 255],\n",
      "       [255, 255, 255, ..., 255, 255, 255],\n",
      "       [255, 255, 255, ..., 255, 255, 255]], dtype=uint8)\n",
      "  0]\n",
      " [array([[255, 255, 255, ..., 255, 255, 255],\n",
      "       [255, 255, 255, ..., 255, 255, 255],\n",
      "       [255, 255, 255, ..., 255, 255, 255],\n",
      "       ...,\n",
      "       [255, 255, 255, ..., 255, 255, 255],\n",
      "       [255, 255, 255, ..., 255, 255, 255],\n",
      "       [255, 255, 255, ..., 255, 255, 255]], dtype=uint8)\n",
      "  1]\n",
      " [array([[255, 255, 255, ..., 255, 255, 255],\n",
      "       [255, 255, 255, ..., 255, 255, 255],\n",
      "       [255, 255, 255, ..., 255, 255, 255],\n",
      "       ...,\n",
      "       [255, 255, 255, ..., 255, 255, 255],\n",
      "       [255, 255, 255, ..., 255, 255, 255],\n",
      "       [255, 255, 255, ..., 255, 255, 255]], dtype=uint8)\n",
      "  0]\n",
      " [array([[255, 255, 255, ..., 255, 255, 255],\n",
      "       [255, 255, 255, ..., 255, 255, 255],\n",
      "       [255, 255, 255, ..., 255, 255, 255],\n",
      "       ...,\n",
      "       [255, 255, 255, ..., 255, 255, 255],\n",
      "       [255, 255, 255, ..., 255, 255, 255],\n",
      "       [255, 255, 255, ..., 255, 255, 255]], dtype=uint8)\n",
      "  1]\n",
      " [array([[255, 255, 255, ..., 255, 255, 255],\n",
      "       [255, 255, 255, ..., 255, 255, 255],\n",
      "       [255, 255, 255, ..., 255, 255, 255],\n",
      "       ...,\n",
      "       [255, 255, 255, ..., 255, 255, 255],\n",
      "       [255, 255, 255, ..., 255, 255, 255],\n",
      "       [255, 255, 255, ..., 255, 255, 255]], dtype=uint8)\n",
      "  0]\n",
      " [array([[255, 255, 255, ..., 255, 255, 255],\n",
      "       [255, 255, 255, ..., 255, 255, 255],\n",
      "       [255, 255, 255, ..., 255, 255, 255],\n",
      "       ...,\n",
      "       [255, 255, 255, ..., 255, 255, 255],\n",
      "       [255, 255, 255, ..., 255, 255, 255],\n",
      "       [255, 255, 255, ..., 255, 255, 255]], dtype=uint8)\n",
      "  1]]\n"
     ]
    }
   ],
   "source": [
    "print(TD[1: 10])"
   ]
  },
  {
   "cell_type": "code",
   "execution_count": 11,
   "metadata": {
    "id": "S_YpFKNZ0GbT"
   },
   "outputs": [],
   "source": [
    "dataset = pd.DataFrame({'Category': TD[:, 0], 'Label': TD[:, 1]})"
   ]
  },
  {
   "cell_type": "code",
   "execution_count": 12,
   "metadata": {
    "colab": {
     "base_uri": "https://localhost:8080/"
    },
    "id": "5LMFNREY0Rh-",
    "outputId": "6ca6c391-d19b-4c4c-8064-7d8843e438d4"
   },
   "outputs": [
    {
     "name": "stdout",
     "output_type": "stream",
     "text": [
      "                                              Category Label\n",
      "0    [[255, 255, 255, 255, 255, 255, 255, 255, 255,...     0\n",
      "1    [[255, 255, 255, 255, 255, 255, 255, 255, 255,...     1\n",
      "2    [[255, 255, 255, 255, 255, 255, 255, 255, 255,...     0\n",
      "3    [[255, 255, 255, 255, 255, 255, 255, 255, 255,...     1\n",
      "4    [[255, 255, 255, 255, 255, 255, 255, 255, 255,...     0\n",
      "..                                                 ...   ...\n",
      "474  [[255, 255, 255, 255, 255, 255, 255, 255, 255,...     1\n",
      "475  [[255, 255, 255, 255, 255, 255, 255, 255, 255,...     0\n",
      "476  [[255, 255, 255, 255, 255, 255, 255, 255, 255,...     0\n",
      "477  [[255, 255, 255, 255, 255, 255, 255, 255, 255,...     1\n",
      "478  [[255, 255, 255, 255, 255, 255, 255, 255, 255,...     1\n",
      "\n",
      "[479 rows x 2 columns]\n"
     ]
    }
   ],
   "source": [
    "print(dataset)"
   ]
  },
  {
   "cell_type": "code",
   "execution_count": 13,
   "metadata": {
    "colab": {
     "base_uri": "https://localhost:8080/",
     "height": 203
    },
    "id": "okwbA5p626-7",
    "outputId": "3d925512-7c87-4f5c-9ee2-51c93597539e"
   },
   "outputs": [
    {
     "data": {
      "text/html": [
       "<div>\n",
       "<style scoped>\n",
       "    .dataframe tbody tr th:only-of-type {\n",
       "        vertical-align: middle;\n",
       "    }\n",
       "\n",
       "    .dataframe tbody tr th {\n",
       "        vertical-align: top;\n",
       "    }\n",
       "\n",
       "    .dataframe thead th {\n",
       "        text-align: right;\n",
       "    }\n",
       "</style>\n",
       "<table border=\"1\" class=\"dataframe\">\n",
       "  <thead>\n",
       "    <tr style=\"text-align: right;\">\n",
       "      <th></th>\n",
       "      <th>Category</th>\n",
       "      <th>Label</th>\n",
       "    </tr>\n",
       "  </thead>\n",
       "  <tbody>\n",
       "    <tr>\n",
       "      <th>0</th>\n",
       "      <td>[[255, 255, 255, 255, 255, 255, 255, 255, 255,...</td>\n",
       "      <td>0</td>\n",
       "    </tr>\n",
       "    <tr>\n",
       "      <th>1</th>\n",
       "      <td>[[255, 255, 255, 255, 255, 255, 255, 255, 255,...</td>\n",
       "      <td>1</td>\n",
       "    </tr>\n",
       "    <tr>\n",
       "      <th>2</th>\n",
       "      <td>[[255, 255, 255, 255, 255, 255, 255, 255, 255,...</td>\n",
       "      <td>0</td>\n",
       "    </tr>\n",
       "    <tr>\n",
       "      <th>3</th>\n",
       "      <td>[[255, 255, 255, 255, 255, 255, 255, 255, 255,...</td>\n",
       "      <td>1</td>\n",
       "    </tr>\n",
       "    <tr>\n",
       "      <th>4</th>\n",
       "      <td>[[255, 255, 255, 255, 255, 255, 255, 255, 255,...</td>\n",
       "      <td>0</td>\n",
       "    </tr>\n",
       "  </tbody>\n",
       "</table>\n",
       "</div>"
      ],
      "text/plain": [
       "                                            Category Label\n",
       "0  [[255, 255, 255, 255, 255, 255, 255, 255, 255,...     0\n",
       "1  [[255, 255, 255, 255, 255, 255, 255, 255, 255,...     1\n",
       "2  [[255, 255, 255, 255, 255, 255, 255, 255, 255,...     0\n",
       "3  [[255, 255, 255, 255, 255, 255, 255, 255, 255,...     1\n",
       "4  [[255, 255, 255, 255, 255, 255, 255, 255, 255,...     0"
      ]
     },
     "execution_count": 13,
     "metadata": {},
     "output_type": "execute_result"
    }
   ],
   "source": [
    "dataset.head()"
   ]
  },
  {
   "cell_type": "code",
   "execution_count": 14,
   "metadata": {
    "colab": {
     "base_uri": "https://localhost:8080/"
    },
    "id": "moB-_mHIUuJL",
    "outputId": "a1c95010-1311-4bf8-adbc-b81f509aa746"
   },
   "outputs": [
    {
     "name": "stdout",
     "output_type": "stream",
     "text": [
      "[[[[255]\n",
      "   [255]\n",
      "   [255]\n",
      "   ...\n",
      "   [255]\n",
      "   [255]\n",
      "   [255]]\n",
      "\n",
      "  [[255]\n",
      "   [255]\n",
      "   [255]\n",
      "   ...\n",
      "   [255]\n",
      "   [255]\n",
      "   [255]]\n",
      "\n",
      "  [[255]\n",
      "   [255]\n",
      "   [255]\n",
      "   ...\n",
      "   [255]\n",
      "   [255]\n",
      "   [255]]\n",
      "\n",
      "  ...\n",
      "\n",
      "  [[255]\n",
      "   [255]\n",
      "   [255]\n",
      "   ...\n",
      "   [255]\n",
      "   [255]\n",
      "   [255]]\n",
      "\n",
      "  [[255]\n",
      "   [255]\n",
      "   [255]\n",
      "   ...\n",
      "   [255]\n",
      "   [255]\n",
      "   [255]]\n",
      "\n",
      "  [[255]\n",
      "   [255]\n",
      "   [255]\n",
      "   ...\n",
      "   [255]\n",
      "   [255]\n",
      "   [255]]]]\n"
     ]
    },
    {
     "name": "stderr",
     "output_type": "stream",
     "text": [
      "/usr/local/lib/python3.7/dist-packages/ipykernel_launcher.py:7: VisibleDeprecationWarning: Creating an ndarray from ragged nested sequences (which is a list-or-tuple of lists-or-tuples-or ndarrays with different lengths or shapes) is deprecated. If you meant to do this, you must specify 'dtype=object' when creating the ndarray\n",
      "  import sys\n"
     ]
    }
   ],
   "source": [
    "X = []\n",
    "y = []\n",
    "\n",
    "\n",
    "for features,label in training_data:\n",
    "    X.append(features)\n",
    "    np.array((y, label))\n",
    "    y.append(label)\n",
    "    \n",
    "\n",
    "print(X[0].reshape(-1, IMG_SIZE, IMG_SIZE, 1))\n",
    "\n",
    "X = np.array(X).reshape(-1, IMG_SIZE, IMG_SIZE, 1)\n",
    "y=np.array(y)\n"
   ]
  },
  {
   "cell_type": "code",
   "execution_count": 15,
   "metadata": {
    "id": "USIMJIlqVkUg"
   },
   "outputs": [],
   "source": [
    "pickle_out = open(\"X.pickle\",\"wb\")\n",
    "pickle.dump(X, pickle_out)\n",
    "pickle_out.close()\n",
    "\n",
    "pickle_out = open(\"y.pickle\",\"wb\")\n",
    "pickle.dump(y, pickle_out)\n",
    "pickle_out.close()\n",
    "\n",
    "pickle_in = open(\"X.pickle\",\"rb\")\n",
    "X = pickle.load(pickle_in)\n",
    "\n",
    "pickle_in = open(\"y.pickle\",\"rb\")\n",
    "y = pickle.load(pickle_in)"
   ]
  },
  {
   "cell_type": "code",
   "execution_count": 16,
   "metadata": {
    "id": "6qnpHS3aUuKX"
   },
   "outputs": [],
   "source": [
    "x_train, x_test, y_train, y_test = train_test_split(X, y)"
   ]
  },
  {
   "cell_type": "code",
   "execution_count": 17,
   "metadata": {
    "colab": {
     "base_uri": "https://localhost:8080/"
    },
    "id": "1nWiQsgoVFDF",
    "outputId": "71a257e0-3293-42e3-f231-8f717fc4bce6"
   },
   "outputs": [
    {
     "data": {
      "text/plain": [
       "(359, 100, 100, 1)"
      ]
     },
     "execution_count": 17,
     "metadata": {},
     "output_type": "execute_result"
    }
   ],
   "source": [
    "x_train.shape"
   ]
  },
  {
   "cell_type": "code",
   "execution_count": 18,
   "metadata": {
    "colab": {
     "base_uri": "https://localhost:8080/"
    },
    "id": "iN0i_i6EVJKK",
    "outputId": "a920ad1e-a91e-4898-9dc9-5b80e7949fe9"
   },
   "outputs": [
    {
     "data": {
      "text/plain": [
       "(359,)"
      ]
     },
     "execution_count": 18,
     "metadata": {},
     "output_type": "execute_result"
    }
   ],
   "source": [
    "y_train.shape"
   ]
  },
  {
   "cell_type": "code",
   "execution_count": 19,
   "metadata": {
    "colab": {
     "base_uri": "https://localhost:8080/"
    },
    "id": "6ktosTtTVMtT",
    "outputId": "632bee68-141f-41c2-949e-f7f7dd74ddcb"
   },
   "outputs": [
    {
     "data": {
      "text/plain": [
       "(120, 100, 100, 1)"
      ]
     },
     "execution_count": 19,
     "metadata": {},
     "output_type": "execute_result"
    }
   ],
   "source": [
    "x_test.shape"
   ]
  },
  {
   "cell_type": "code",
   "execution_count": 20,
   "metadata": {
    "colab": {
     "base_uri": "https://localhost:8080/"
    },
    "id": "n5nQSO7UVPTZ",
    "outputId": "7d2f6588-6fa2-4a5a-df8a-1401e5ffbd55"
   },
   "outputs": [
    {
     "data": {
      "text/plain": [
       "(120,)"
      ]
     },
     "execution_count": 20,
     "metadata": {},
     "output_type": "execute_result"
    }
   ],
   "source": [
    "y_test.shape"
   ]
  },
  {
   "cell_type": "code",
   "execution_count": 21,
   "metadata": {
    "colab": {
     "base_uri": "https://localhost:8080/"
    },
    "id": "ViNlLDxIV9Hg",
    "outputId": "08104542-83f2-4fb8-c3c9-aeebbe12d721"
   },
   "outputs": [
    {
     "name": "stdout",
     "output_type": "stream",
     "text": [
      "1-conv-128-nodes-0-dense-1633160025\n",
      "Epoch 1/30\n",
      "10/10 [==============================] - 6s 526ms/step - loss: 3.2165 - accuracy: 0.4099 - val_loss: 2.2650 - val_accuracy: 0.4896\n",
      "Epoch 2/30\n",
      "10/10 [==============================] - 5s 488ms/step - loss: 1.1800 - accuracy: 0.5718 - val_loss: 0.7316 - val_accuracy: 0.5104\n",
      "Epoch 3/30\n",
      "10/10 [==============================] - 5s 483ms/step - loss: 0.6980 - accuracy: 0.5561 - val_loss: 0.6157 - val_accuracy: 0.5625\n",
      "Epoch 4/30\n",
      "10/10 [==============================] - 5s 492ms/step - loss: 0.5942 - accuracy: 0.6632 - val_loss: 0.5543 - val_accuracy: 0.7812\n",
      "Epoch 5/30\n",
      "10/10 [==============================] - 5s 495ms/step - loss: 0.5068 - accuracy: 0.9060 - val_loss: 0.4799 - val_accuracy: 0.9479\n",
      "Epoch 6/30\n",
      "10/10 [==============================] - 5s 510ms/step - loss: 0.4296 - accuracy: 0.9399 - val_loss: 0.4270 - val_accuracy: 0.9271\n",
      "Epoch 7/30\n",
      "10/10 [==============================] - 5s 510ms/step - loss: 0.3730 - accuracy: 0.9687 - val_loss: 0.3698 - val_accuracy: 0.9479\n",
      "Epoch 8/30\n",
      "10/10 [==============================] - 5s 513ms/step - loss: 0.3238 - accuracy: 0.9687 - val_loss: 0.3256 - val_accuracy: 0.9583\n",
      "Epoch 9/30\n",
      "10/10 [==============================] - 5s 514ms/step - loss: 0.2795 - accuracy: 0.9843 - val_loss: 0.2871 - val_accuracy: 0.9479\n",
      "Epoch 10/30\n",
      "10/10 [==============================] - 5s 527ms/step - loss: 0.2446 - accuracy: 0.9843 - val_loss: 0.2580 - val_accuracy: 0.9583\n",
      "Epoch 11/30\n",
      "10/10 [==============================] - 5s 523ms/step - loss: 0.2161 - accuracy: 0.9843 - val_loss: 0.2317 - val_accuracy: 0.9583\n",
      "Epoch 12/30\n",
      "10/10 [==============================] - 5s 525ms/step - loss: 0.1902 - accuracy: 0.9869 - val_loss: 0.2057 - val_accuracy: 0.9688\n",
      "Epoch 13/30\n",
      "10/10 [==============================] - 5s 522ms/step - loss: 0.1689 - accuracy: 0.9948 - val_loss: 0.1854 - val_accuracy: 1.0000\n",
      "Epoch 14/30\n",
      "10/10 [==============================] - 5s 529ms/step - loss: 0.1510 - accuracy: 0.9922 - val_loss: 0.1703 - val_accuracy: 1.0000\n",
      "Epoch 15/30\n",
      "10/10 [==============================] - 5s 520ms/step - loss: 0.1334 - accuracy: 1.0000 - val_loss: 0.1509 - val_accuracy: 1.0000\n",
      "Epoch 16/30\n",
      "10/10 [==============================] - 5s 527ms/step - loss: 0.1207 - accuracy: 1.0000 - val_loss: 0.1477 - val_accuracy: 1.0000\n",
      "Epoch 17/30\n",
      "10/10 [==============================] - 5s 515ms/step - loss: 0.1122 - accuracy: 1.0000 - val_loss: 0.1265 - val_accuracy: 1.0000\n",
      "Epoch 18/30\n",
      "10/10 [==============================] - 5s 523ms/step - loss: 0.0993 - accuracy: 1.0000 - val_loss: 0.1149 - val_accuracy: 1.0000\n",
      "Epoch 19/30\n",
      "10/10 [==============================] - 5s 534ms/step - loss: 0.0883 - accuracy: 1.0000 - val_loss: 0.1128 - val_accuracy: 1.0000\n",
      "Epoch 20/30\n",
      "10/10 [==============================] - 5s 530ms/step - loss: 0.0825 - accuracy: 1.0000 - val_loss: 0.0980 - val_accuracy: 1.0000\n",
      "Epoch 21/30\n",
      "10/10 [==============================] - 5s 533ms/step - loss: 0.0753 - accuracy: 1.0000 - val_loss: 0.0907 - val_accuracy: 1.0000\n",
      "Epoch 22/30\n",
      "10/10 [==============================] - 5s 529ms/step - loss: 0.0689 - accuracy: 1.0000 - val_loss: 0.0858 - val_accuracy: 1.0000\n",
      "Epoch 23/30\n",
      "10/10 [==============================] - 5s 524ms/step - loss: 0.0624 - accuracy: 1.0000 - val_loss: 0.0783 - val_accuracy: 1.0000\n",
      "Epoch 24/30\n",
      "10/10 [==============================] - 5s 524ms/step - loss: 0.0577 - accuracy: 1.0000 - val_loss: 0.0726 - val_accuracy: 1.0000\n",
      "Epoch 25/30\n",
      "10/10 [==============================] - 5s 534ms/step - loss: 0.0530 - accuracy: 1.0000 - val_loss: 0.0682 - val_accuracy: 1.0000\n",
      "Epoch 26/30\n",
      "10/10 [==============================] - 5s 529ms/step - loss: 0.0495 - accuracy: 1.0000 - val_loss: 0.0635 - val_accuracy: 1.0000\n",
      "Epoch 27/30\n",
      "10/10 [==============================] - 5s 531ms/step - loss: 0.0455 - accuracy: 1.0000 - val_loss: 0.0599 - val_accuracy: 1.0000\n",
      "Epoch 28/30\n",
      "10/10 [==============================] - 5s 527ms/step - loss: 0.0425 - accuracy: 1.0000 - val_loss: 0.0563 - val_accuracy: 1.0000\n",
      "Epoch 29/30\n",
      "10/10 [==============================] - 5s 527ms/step - loss: 0.0399 - accuracy: 1.0000 - val_loss: 0.0523 - val_accuracy: 1.0000\n",
      "Epoch 30/30\n",
      "10/10 [==============================] - 5s 532ms/step - loss: 0.0370 - accuracy: 1.0000 - val_loss: 0.0501 - val_accuracy: 1.0000\n"
     ]
    }
   ],
   "source": [
    "X = X/255.0\n",
    "\n",
    "dense_layers = [0]\n",
    "layer_sizes = [128]\n",
    "conv_layers = [1]\n",
    "\n",
    "for dense_layer in dense_layers:\n",
    "    for layer_size in layer_sizes:\n",
    "        for conv_layer in conv_layers:\n",
    "            NAME = \"{}-conv-{}-nodes-{}-dense-{}\".format(conv_layer, layer_size, dense_layer, int(time.time()))\n",
    "            print(NAME)\n",
    "\n",
    "            model = Sequential()\n",
    "\n",
    "            model.add(Conv2D(layer_size, (3, 3), input_shape=X.shape[1:]))\n",
    "            model.add(Activation('relu'))\n",
    "            BatchNormalization()\n",
    "            model.add(MaxPooling2D(pool_size=(2, 2)))\n",
    "\n",
    "            for l in range(conv_layer-1):\n",
    "                model.add(Conv2D(layer_size, (3, 3)))\n",
    "                model.add(Activation('relu'))\n",
    "                model.add(MaxPooling2D(pool_size=(2, 2)))\n",
    "\n",
    "            model.add(Flatten())\n",
    "\n",
    "            for _ in range(dense_layer):\n",
    "                model.add(Dense(layer_size))\n",
    "                model.add(Activation('relu'))\n",
    "\n",
    "            model.add(Dense(1))\n",
    "            model.add(Activation('sigmoid'))\n",
    "\n",
    "            tensorboard = TensorBoard(log_dir=\"logs/{}\".format(NAME))\n",
    "\n",
    "            model.compile(loss='binary_crossentropy',\n",
    "                          optimizer='Adamax',\n",
    "                          metrics=['accuracy'],\n",
    "                          )\n",
    "\n",
    "            history = model.fit(X, y, batch_size=40\n",
    "                                , epochs=30, validation_split=0.2, callbacks=[tensorboard])"
   ]
  },
  {
   "cell_type": "code",
   "execution_count": 22,
   "metadata": {
    "colab": {
     "base_uri": "https://localhost:8080/"
    },
    "id": "wMz1fmvTW0XL",
    "outputId": "89e281ab-a6f1-4d4e-96e4-8a41c7e173ef"
   },
   "outputs": [
    {
     "name": "stdout",
     "output_type": "stream",
     "text": [
      "Model: \"sequential\"\n",
      "_________________________________________________________________\n",
      "Layer (type)                 Output Shape              Param #   \n",
      "=================================================================\n",
      "conv2d (Conv2D)              (None, 98, 98, 128)       1280      \n",
      "_________________________________________________________________\n",
      "activation (Activation)      (None, 98, 98, 128)       0         \n",
      "_________________________________________________________________\n",
      "max_pooling2d (MaxPooling2D) (None, 49, 49, 128)       0         \n",
      "_________________________________________________________________\n",
      "flatten (Flatten)            (None, 307328)            0         \n",
      "_________________________________________________________________\n",
      "dense (Dense)                (None, 1)                 307329    \n",
      "_________________________________________________________________\n",
      "activation_1 (Activation)    (None, 1)                 0         \n",
      "=================================================================\n",
      "Total params: 308,609\n",
      "Trainable params: 308,609\n",
      "Non-trainable params: 0\n",
      "_________________________________________________________________\n",
      "None\n"
     ]
    }
   ],
   "source": [
    "print(model.summary())"
   ]
  },
  {
   "cell_type": "code",
   "execution_count": 26,
   "metadata": {
    "colab": {
     "base_uri": "https://localhost:8080/",
     "height": 295
    },
    "id": "nWuccePVW964",
    "outputId": "d78afbb8-54e0-498e-d905-e50bc0bc09db"
   },
   "outputs": [
    {
     "data": {
      "image/png": "[encoded data removed]",
      "text/plain": [
       "<Figure size 432x288 with 1 Axes>"
      ]
     },
     "metadata": {
      "needs_background": "light"
     },
     "output_type": "display_data"
    }
   ],
   "source": [
    "plt.plot(history.history['accuracy'])\n",
    "plt.plot(history.history['val_accuracy'])\n",
    "plt.title('model accuracy')\n",
    "plt.ylabel('accuracy')\n",
    "plt.xlabel('epoch')\n",
    "plt.legend(['train', 'test'], loc='lower right')\n",
    "plt.show()"
   ]
  },
  {
   "cell_type": "code",
   "execution_count": 28,
   "metadata": {
    "colab": {
     "base_uri": "https://localhost:8080/",
     "height": 295
    },
    "id": "aK3RiNjoXHhQ",
    "outputId": "0c610686-57c5-4d79-c988-9cef85d5fb89"
   },
   "outputs": [
    {
     "data": {
      "image/png": "[encoded data removed]",
      "text/plain": [
       "<Figure size 432x288 with 1 Axes>"
      ]
     },
     "metadata": {
      "needs_background": "light"
     },
     "output_type": "display_data"
    }
   ],
   "source": [
    "plt.plot(history.history['loss'])\n",
    "plt.plot(history.history['val_loss'])\n",
    "plt.title('model loss')\n",
    "plt.ylabel('loss')\n",
    "plt.xlabel('epoch')\n",
    "plt.legend(['train', 'test'], loc='upper right')\n",
    "plt.show()"
   ]
  },
  {
   "cell_type": "code",
   "execution_count": 25,
   "metadata": {
    "colab": {
     "base_uri": "https://localhost:8080/",
     "height": 295
    },
    "id": "bo5X89onLY9x",
    "outputId": "587e27c4-1ee6-428e-d006-410780dd4f4e"
   },
   "outputs": [
    {
     "data": {
      "image/png": "[encoded data removed]",
      "text/plain": [
       "<Figure size 432x288 with 1 Axes>"
      ]
     },
     "metadata": {
      "needs_background": "light"
     },
     "output_type": "display_data"
    }
   ],
   "source": [
    "#faulty\n",
    "\n",
    "#plt.figure(figsize=(8,8))\n",
    "plt.scatter(history.history['val_loss'],history.history['val_accuracy'],label='validation',alpha= 0.5 , color = 'red' )\n",
    "plt.scatter(history.history['loss'],history.history['accuracy'],label = 'Actual',alpha= 0.5 ,color = 'lightgreen')\n",
    "plt.ylabel('Accuracy')\n",
    "plt.xlabel('Loss')\n",
    "plt.title('Scatter Model For Accuracy')\n",
    "plt.legend(loc='upper right')\n",
    "#plt.xticks(np.arange(0,10,3))\n",
    "plt.yticks(np.arange(0.0,1.1,0.1))\n",
    "plt.ylim([0.5, 1.1])\n",
    "\n",
    "plt.show()"
   ]
  },
  {
   "cell_type": "code",
   "execution_count": 31,
   "metadata": {
    "colab": {
     "base_uri": "https://localhost:8080/",
     "height": 314
    },
    "id": "9j59McywLuuU",
    "outputId": "f2bc97ab-a20f-4834-a896-6522f05cac35"
   },
   "outputs": [
    {
     "data": {
      "text/plain": [
       "<matplotlib.legend.Legend at 0x7fecb1feb6d0>"
      ]
     },
     "execution_count": 31,
     "metadata": {},
     "output_type": "execute_result"
    },
    {
     "data": {
      "image/png": "[encoded data removed]",
      "text/plain": [
       "<Figure size 432x288 with 1 Axes>"
      ]
     },
     "metadata": {
      "needs_background": "light"
     },
     "output_type": "display_data"
    }
   ],
   "source": [
    "plt.scatter(history.history['accuracy'],history.history['val_accuracy'],label='accuracy' ,color ='lightblue' ,alpha= 0.8 , marker= 'o')\n",
    "\n",
    "plt.ylabel('val_accuracy')\n",
    "plt.xlabel('accuracy')\n",
    "plt.title('Scatter Model For Value_accuracy vs Accuracy')\n",
    "plt.legend(loc='upper left')\n",
    "#plt.ylim([0.6, 0.7])"
   ]
  },
  {
   "cell_type": "code",
   "execution_count": 33,
   "metadata": {
    "colab": {
     "base_uri": "https://localhost:8080/",
     "height": 314
    },
    "id": "y90xYMtsLz5k",
    "outputId": "efcb89d0-0c57-4b32-f9d8-b37a5ad0e003"
   },
   "outputs": [
    {
     "data": {
      "text/plain": [
       "<matplotlib.legend.Legend at 0x7fecb1f87e90>"
      ]
     },
     "execution_count": 33,
     "metadata": {},
     "output_type": "execute_result"
    },
    {
     "data": {
      "image/png": "[encoded data removed]",
      "text/plain": [
       "<Figure size 432x288 with 1 Axes>"
      ]
     },
     "metadata": {
      "needs_background": "light"
     },
     "output_type": "display_data"
    }
   ],
   "source": [
    "#faulty\n",
    "\n",
    "plt.scatter(history.history['val_loss'],history.history['loss'],label='loss' ,color ='pink', marker= 'o')\n",
    "\n",
    "plt.ylabel('val_loss')\n",
    "plt.xlabel('loss')\n",
    "plt.title('Scatter Model For Loss vs Value_loss ')\n",
    "plt.legend(loc='upper left')"
   ]
  },
  {
   "cell_type": "code",
   "execution_count": 38,
   "metadata": {
    "colab": {
     "base_uri": "https://localhost:8080/",
     "height": 314
    },
    "id": "LLNttn04L7C3",
    "outputId": "8c39f9bd-7d1b-4199-bdd6-7352e7319a18"
   },
   "outputs": [
    {
     "data": {
      "text/plain": [
       "Text(0.5, 1.0, 'Scatter Model For accuracy vs loss')"
      ]
     },
     "execution_count": 38,
     "metadata": {},
     "output_type": "execute_result"
    },
    {
     "data": {
      "image/png": "[encoded data removed]",
      "text/plain": [
       "<Figure size 432x288 with 1 Axes>"
      ]
     },
     "metadata": {
      "needs_background": "light"
     },
     "output_type": "display_data"
    }
   ],
   "source": [
    "plt.scatter(history.history['accuracy'],history.history['loss'], alpha = 0.6, color ='red', marker= 'v')\n",
    "plt.ylabel('loss')\n",
    "plt.xlabel('accuracy')\n",
    "plt.title('Scatter Model For accuracy vs loss')\n"
   ]
  },
  {
   "cell_type": "code",
   "execution_count": 41,
   "metadata": {
    "colab": {
     "base_uri": "https://localhost:8080/",
     "height": 295
    },
    "id": "1GDpMP97epLS",
    "outputId": "fc465924-e141-4daa-e977-f9f66a53c3b2"
   },
   "outputs": [
    {
     "data": {
      "image/png": "[encoded data removed]",
      "text/plain": [
       "<Figure size 432x288 with 1 Axes>"
      ]
     },
     "metadata": {
      "needs_background": "light"
     },
     "output_type": "display_data"
    }
   ],
   "source": [
    "plt.plot(history.history['accuracy'],history.history['loss'] ,'r-')\n",
    "plt.plot(history.history['accuracy'],history.history['loss'] ,'go',alpha=0.6)\n",
    "#plt.plot(history.history['val_accuracy'],history.history['val_loss'],\"g-\")\n",
    "#plt.plot(history.history['val_accuracy'],history.history['val_loss'],\"ro\")\n",
    "plt.xlabel('Accuracy')\n",
    "plt.ylabel('Loss')\n",
    "\n",
    "plt.title('line Model For Accuracy vs loss ')\n",
    "#plt.legend(['Train', 'Test'], loc='upper right')\n",
    "plt.show()"
   ]
  },
  {
   "cell_type": "code",
   "execution_count": 43,
   "metadata": {
    "colab": {
     "base_uri": "https://localhost:8080/",
     "height": 295
    },
    "id": "AbW6PxjQjo81",
    "outputId": "195d3ad0-4ca7-42c4-c066-cb568c09e3fb"
   },
   "outputs": [
    {
     "data": {
      "image/png": "[encoded data removed]",
      "text/plain": [
       "<Figure size 432x288 with 1 Axes>"
      ]
     },
     "metadata": {
      "needs_background": "light"
     },
     "output_type": "display_data"
    }
   ],
   "source": [
    "plt.plot(history.history['val_accuracy'],history.history['val_loss'],\"r-\")\n",
    "plt.plot(history.history['val_accuracy'],history.history['val_loss'],\"go\")\n",
    "plt.xlabel('Accuracy')\n",
    "plt.ylabel('Loss')\n",
    "\n",
    "plt.title('line Model For Validation  ')\n",
    "#plt.legend(['Train', 'Test'], loc='upper right')\n",
    "plt.show()"
   ]
  },
  {
   "cell_type": "code",
   "execution_count": 44,
   "metadata": {
    "colab": {
     "base_uri": "https://localhost:8080/",
     "height": 295
    },
    "id": "5Gzt7vqijx3l",
    "outputId": "5b20489c-6d7d-46ef-e726-d8236025cec2"
   },
   "outputs": [
    {
     "data": {
      "image/png": "[encoded data removed]",
      "text/plain": [
       "<Figure size 432x288 with 1 Axes>"
      ]
     },
     "metadata": {
      "needs_background": "light"
     },
     "output_type": "display_data"
    }
   ],
   "source": [
    "plt.plot(history.history['accuracy'],history.history['loss'] ,'r-')\n",
    "plt.plot(history.history['accuracy'],history.history['loss'] ,'bo')\n",
    "plt.plot(history.history['val_accuracy'],history.history['val_loss'],\"g-\")\n",
    "plt.plot(history.history['val_accuracy'],history.history['val_loss'],\"ro\")\n",
    "plt.xlabel('Accuracy')\n",
    "plt.ylabel('Loss')\n",
    "\n",
    "plt.title('line Model For Accuracy vs loss ')\n",
    "#plt.legend(['Train', 'Test'], loc='upper right')\n",
    "plt.show()"
   ]
  },
  {
   "cell_type": "code",
   "execution_count": 45,
   "metadata": {
    "colab": {
     "base_uri": "https://localhost:8080/",
     "height": 265
    },
    "id": "K78C7P6zj3jw",
    "outputId": "aecab4b4-d73b-4e1f-f068-180bc6d97571"
   },
   "outputs": [
    {
     "data": {
      "image/png": "[encoded data removed]",
      "text/plain": [
       "<Figure size 432x288 with 1 Axes>"
      ]
     },
     "metadata": {
      "needs_background": "light"
     },
     "output_type": "display_data"
    }
   ],
   "source": [
    "colors = ['lightgreen', 'lightblue']\n",
    "plt.bar(CATEGORIES, Number_of_DATA_Per_Label, color = colors, width = 0.6, edgecolor = 'white')\n",
    "plt.yticks(np.arange(0.0,1.1,0.1))\n",
    "#plt.xticks(np.arange(0.0,11,1))\n",
    "\n",
    "plt.show()"
   ]
  },
  {
   "cell_type": "code",
   "execution_count": 46,
   "metadata": {
    "colab": {
     "base_uri": "https://localhost:8080/"
    },
    "id": "vy6TsH99MEYT",
    "outputId": "b003487d-6d2d-4dc0-9452-099d846fd585"
   },
   "outputs": [
    {
     "name": "stdout",
     "output_type": "stream",
     "text": [
      "Classification Report: \n",
      "               precision    recall  f1-score   support\n",
      "\n",
      "           0       0.50      1.00      0.67        60\n",
      "           1       0.00      0.00      0.00        60\n",
      "\n",
      "    accuracy                           0.50       120\n",
      "   macro avg       0.25      0.50      0.33       120\n",
      "weighted avg       0.25      0.50      0.33       120\n",
      "\n"
     ]
    },
    {
     "name": "stderr",
     "output_type": "stream",
     "text": [
      "/usr/local/lib/python3.7/dist-packages/sklearn/metrics/_classification.py:1272: UndefinedMetricWarning: Precision and F-score are ill-defined and being set to 0.0 in labels with no predicted samples. Use `zero_division` parameter to control this behavior.\n",
      "  _warn_prf(average, modifier, msg_start, len(result))\n"
     ]
    }
   ],
   "source": [
    "from sklearn.metrics import confusion_matrix , classification_report\n",
    "\n",
    "y_pred = model.predict(x_test)\n",
    "y_pred_classes = [np.argmax(element) for element in y_pred]\n",
    "\n",
    "print(\"Classification Report: \\n\", classification_report(y_test, y_pred_classes))"
   ]
  },
  {
   "cell_type": "code",
   "execution_count": 48,
   "metadata": {
    "colab": {
     "base_uri": "https://localhost:8080/"
    },
    "id": "mPSOYxbnXc7F",
    "outputId": "c4097384-e319-4094-d677-40e68c22d87b"
   },
   "outputs": [
    {
     "name": "stdout",
     "output_type": "stream",
     "text": [
      "INFO:tensorflow:Assets written to: 64x3-CNN.model/assets\n"
     ]
    }
   ],
   "source": [
    "model.save('64x3-CNN.model')"
   ]
  },
  {
   "cell_type": "code",
   "execution_count": 49,
   "metadata": {
    "colab": {
     "base_uri": "https://localhost:8080/",
     "height": 306
    },
    "id": "4b6qg7UdXj2D",
    "outputId": "309d6e86-3d75-4718-ba7f-ff11c884bf9b"
   },
   "outputs": [
    {
     "data": {
      "image/png": "[encoded data removed]",
      "text/plain": [
       "<Figure size 432x288 with 1 Axes>"
      ]
     },
     "metadata": {
      "needs_background": "light"
     },
     "output_type": "display_data"
    },
    {
     "name": "stdout",
     "output_type": "stream",
     "text": [
      "[[0.]]\n",
      "MI Patient\n"
     ]
    }
   ],
   "source": [
    "def prepare(filepath):\n",
    "    IMG_SIZE = 100  \n",
    "    img_array = cv2.imread(filepath, cv2.IMREAD_GRAYSCALE)\n",
    "    new_array = cv2.resize(img_array, (IMG_SIZE, IMG_SIZE))\n",
    "    plt.imshow(img_array, cmap='gray')  \n",
    "    plt.show()\n",
    "    return new_array.reshape(-1, IMG_SIZE, IMG_SIZE, 1)\n",
    "\n",
    "model = tf.keras.models.load_model(\"64x3-CNN.model\")\n",
    "\n",
    "prediction = model.predict([prepare('/content/drive/MyDrive/Colab Notebooks/DS2/ECG/MI Patient/MI(103).jpg')])\n",
    "print(prediction)  \n",
    "print(CATEGORIES[int(prediction[0][0])])"
   ]
  },
  {
   "cell_type": "code",
   "execution_count": 50,
   "metadata": {
    "colab": {
     "base_uri": "https://localhost:8080/",
     "height": 306
    },
    "id": "lcGTq64kXlzL",
    "outputId": "9a791174-57f2-4ca8-b055-a58a06512f3f"
   },
   "outputs": [
    {
     "data": {
      "image/png": "[encoded data removed]",
      "text/plain": [
       "<Figure size 432x288 with 1 Axes>"
      ]
     },
     "metadata": {
      "needs_background": "light"
     },
     "output_type": "display_data"
    },
    {
     "name": "stdout",
     "output_type": "stream",
     "text": [
      "[[1.]]\n",
      "Normal\n"
     ]
    }
   ],
   "source": [
    "def prepare(filepath):\n",
    "    IMG_SIZE = 100  \n",
    "    img_array = cv2.imread(filepath, cv2.IMREAD_GRAYSCALE)\n",
    "    new_array = cv2.resize(img_array, (IMG_SIZE, IMG_SIZE))\n",
    "    plt.imshow(img_array, cmap='gray') \n",
    "    plt.show()\n",
    "    return new_array.reshape(-1, IMG_SIZE, IMG_SIZE, 1)\n",
    "\n",
    "model = tf.keras.models.load_model(\"64x3-CNN.model\")\n",
    "\n",
    "prediction = model.predict([prepare('/content/drive/MyDrive/Colab Notebooks/DS2/ECG/Normal/Normal(102).jpg')])\n",
    "print(prediction)  \n",
    "print(CATEGORIES[int(prediction[0][0])])"
   ]
  }
 ],
 "metadata": {
  "colab": {
   "name": "Final Pre-2.ipynb",
   "provenance": []
  },
  "kernelspec": {
   "display_name": "Python 3",
   "language": "python",
   "name": "python3"
  },
  "language_info": {
   "codemirror_mode": {
    "name": "ipython",
    "version": 3
   },
   "file_extension": ".py",
   "mimetype": "text/x-python",
   "name": "python",
   "nbconvert_exporter": "python",
   "pygments_lexer": "ipython3",
   "version": "3.8.3"
  }
 },
 "nbformat": 4,
 "nbformat_minor": 1
}
